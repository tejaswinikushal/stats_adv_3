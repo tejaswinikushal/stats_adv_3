{
 "cells": [
  {
   "cell_type": "markdown",
   "id": "596f2ca2",
   "metadata": {},
   "source": [
    "#### Q1: What is Estimation Statistics? Explain point estimate and interval estimate.\n",
    "Q2. Write a Python function to estimate the population mean using a sample mean and standard\n",
    "deviation.\n",
    "Q3: What is Hypothesis testing? Why is it used? State the importance of Hypothesis testing.\n",
    "Q4. Create a hypothesis that states whether the average weight of male college students is greater than\n",
    "the average weight of female college students.\n",
    "Q5. Write a Python script to conduct a hypothesis test on the difference between two population means,\n",
    "given a sample from each population.\n",
    "Q6: What is a null and alternative hypothesis? Give some examples.\n",
    "Q7: Write down the steps involved in hypothesis testing.\n",
    "Q8. Define p-value and explain its significance in hypothesis testing.\n",
    "Q9. Generate a Student's t-distribution plot using Python's matplotlib library, with the degrees of freedom\n",
    "parameter set to 10.\n",
    "Q10. Write a Python program to calculate the two-sample t-test for independent samples, given two\n",
    "random samples of equal size and a null hypothesis that the population means are equal.\n",
    "Q11: What is Student’s t distribution? When to use the t-Distribution.\n",
    "Q12: What is t-statistic? State the formula for t-statistic.\n",
    "Q13. A coffee shop owner wants to estimate the average daily revenue for their shop. They take a random\n",
    "sample of 50 days and find the sample mean revenue to be $500 with a standard deviation of $50.\n",
    "Estimate the population mean revenue with a 95% confidence interval.\n",
    "Q14. A researcher hypothesizes that a new drug will decrease blood pressure by 10 mmHg. They conduct a\n",
    "clinical trial with 100 patients and find that the sample mean decrease in blood pressure is 8 mmHg with a\n",
    "standard deviation of 3 mmHg. Test the hypothesis with a significance level of 0.05.\n",
    "Q15. An electronics company produces a certain type of product with a mean weight of 5 pounds and a\n",
    "standard deviation of 0.5 pounds. A random sample of 25 products is taken, and the sample mean weight\n",
    "is found to be 4.8 pounds. Test the hypothesis that the true mean weight of the products is less than 5\n",
    "pounds with a significance level of 0.01.\n",
    "Q16. Two groups of students are given different study materials to prepare for a test. The first group (n1 =\n",
    "30) has a mean score of 80 with a standard deviation of 10, and the second group (n2 = 40) has a mean\n",
    "score of 75 with a standard deviation of 8. Test the hypothesis that the population means for the two\n",
    "groups are equal with a significance level of 0.01.\n",
    "Q17. A marketing company wants to estimate the average number of ads watched by viewers during a TV\n",
    "program. They take a random sample of 50 viewers and find that the sample mean is 4 with a standard\n",
    "deviation of 1.5. Estimate the population mean with a 99% confidence interval."
   ]
  },
  {
   "cell_type": "markdown",
   "id": "f11f1392",
   "metadata": {},
   "source": [
    "#### Estimation Statistics:\n",
    "\n",
    "#### Point Estimate:\n",
    "          A single value used to estimate a population parameter.\n",
    "#### Interval Estimate:\n",
    "          A range of values used to estimate a population parameter."
   ]
  },
  {
   "cell_type": "markdown",
   "id": "2e18a7e4",
   "metadata": {},
   "source": [
    "#### Q2. Write a Python function to estimate the population mean using a sample mean and standard deviation."
   ]
  },
  {
   "cell_type": "code",
   "execution_count": 2,
   "id": "e3f7849d",
   "metadata": {},
   "outputs": [
    {
     "name": "stdout",
     "output_type": "stream",
     "text": [
      "95% Confidence Interval: (48.04, 51.96)\n"
     ]
    }
   ],
   "source": [
    "def estimate_population_mean(sample_mean, sample_std, sample_size):\n",
    "    import math\n",
    "    margin_of_error = 1.96 * (sample_std / math.sqrt(sample_size))\n",
    "    confidence_interval = (sample_mean - margin_of_error, sample_mean + margin_of_error)\n",
    "    return confidence_interval\n",
    "\n",
    "estimate = estimate_population_mean(50, 10, 100)\n",
    "print(\"95% Confidence Interval:\", estimate)\n"
   ]
  },
  {
   "cell_type": "markdown",
   "id": "50f23670",
   "metadata": {},
   "source": [
    "#### Q3: What is Hypothesis testing? Why is it used? State the importance of Hypothesis testing."
   ]
  },
  {
   "cell_type": "markdown",
   "id": "9faf54f3",
   "metadata": {},
   "source": [
    "#### Hypothesis Testing:\n",
    "\n",
    "Definition: A statistical method used to make inferences about population parameters based on sample data.\n",
    "\n",
    "Importance: Validates or rejects assumptions about population parameters, aids decision-making."
   ]
  },
  {
   "cell_type": "markdown",
   "id": "3fd2e879",
   "metadata": {},
   "source": [
    "#### Q4. Create a hypothesis that states whether the average weight of male college students is greater than the average weight of female college students."
   ]
  },
  {
   "cell_type": "markdown",
   "id": "548a18ca",
   "metadata": {},
   "source": [
    "#### Hypothesis on Average Weight:\n",
    "\n",
    "Null Hypothesis : The average weight of male college students is not greater than the average weight of female college students.\n",
    "\n",
    "Alternative Hypothesis : The average weight of male college students is greater than the average weight of female college students.\n"
   ]
  },
  {
   "cell_type": "markdown",
   "id": "3ea81775",
   "metadata": {},
   "source": [
    "#### Q5. Write a Python script to conduct a hypothesis test on the difference between two population means, given a sample from each population."
   ]
  },
  {
   "cell_type": "code",
   "execution_count": 4,
   "id": "bd2619ff",
   "metadata": {},
   "outputs": [
    {
     "name": "stdout",
     "output_type": "stream",
     "text": [
      "T-Statistic: -1.0\n",
      "P-Value: 0.34659350708733416\n"
     ]
    }
   ],
   "source": [
    "from scipy import stats\n",
    "\n",
    "def two_sample_t_test(sample1, sample2):\n",
    "    t_stat, p_value = stats.ttest_ind(sample1, sample2)\n",
    "    return t_stat, p_value\n",
    "sample1 = [1, 2, 3, 4, 5]\n",
    "sample2 = [2, 3, 4, 5, 6]\n",
    "t_statistic, p_value = two_sample_t_test(sample1, sample2)\n",
    "print(\"T-Statistic:\", t_statistic)\n",
    "print(\"P-Value:\", p_value)\n"
   ]
  },
  {
   "cell_type": "markdown",
   "id": "bbb5884c",
   "metadata": {},
   "source": [
    "#### Q6: What is a null and alternative hypothesis? Give some examples."
   ]
  },
  {
   "cell_type": "markdown",
   "id": "7e995fc7",
   "metadata": {},
   "source": [
    "#### Null and Alternative Hypothesis Examples:\n",
    "\n",
    "Null Hypothesis: There is no difference between the means.\n",
    "\n",
    "Alternative Hypothesis: There is a significant difference between the means."
   ]
  },
  {
   "cell_type": "markdown",
   "id": "26ec2562",
   "metadata": {},
   "source": [
    "#### Q7: Write down the steps involved in hypothesis testing."
   ]
  },
  {
   "cell_type": "markdown",
   "id": "98da057e",
   "metadata": {},
   "source": [
    "#### Steps in Hypothesis Testing:\n",
    "\n",
    "Define Hypotheses\n",
    "\n",
    "Choose Significance Level\n",
    "\n",
    "Collect Data and Calculate Test Statistic\n",
    "\n",
    "Determine Critical Region\n",
    "\n",
    "Make a Decision"
   ]
  },
  {
   "cell_type": "markdown",
   "id": "6ff9c88f",
   "metadata": {},
   "source": [
    "#### Q8. Define p-value and explain its significance in hypothesis testing."
   ]
  },
  {
   "cell_type": "markdown",
   "id": "b632682d",
   "metadata": {},
   "source": [
    "#### P-Value in Hypothesis Testing:\n",
    "\n",
    "Definition: The probability of observing a test statistic as extreme as, or more extreme than, the one observed, assuming the null hypothesis is true.\n",
    "\n",
    "Significance: A small p-value (α) indicates evidence against the null hypothesis."
   ]
  },
  {
   "cell_type": "markdown",
   "id": "d3e9c304",
   "metadata": {},
   "source": [
    "#### Q9. Generate a Student's t-distribution plot using Python's matplotlib library, with the degrees of freedom parameter set to 10."
   ]
  },
  {
   "cell_type": "code",
   "execution_count": 5,
   "id": "c89a56fa",
   "metadata": {},
   "outputs": [
    {
     "data": {
      "image/png": "[encoded data removed]",
      "text/plain": [
       "<Figure size 640x480 with 1 Axes>"
      ]
     },
     "metadata": {},
     "output_type": "display_data"
    }
   ],
   "source": [
    "import matplotlib.pyplot as plt\n",
    "import numpy as np\n",
    "from scipy.stats import t\n",
    "\n",
    "df = 10  # degrees of freedom\n",
    "x = np.linspace(-4, 4, 1000)\n",
    "plt.plot(x, t.pdf(x, df), label='t-distribution (df=10)')\n",
    "plt.legend()\n",
    "plt.show()\n"
   ]
  },
  {
   "cell_type": "markdown",
   "id": "916dca3c",
   "metadata": {},
   "source": [
    "#### Q10. Write a Python program to calculate the two-sample t-test for independent samples, given two random samples of equal size and a null hypothesis that the population means are equal."
   ]
  },
  {
   "cell_type": "code",
   "execution_count": 6,
   "id": "3fee2e62",
   "metadata": {},
   "outputs": [
    {
     "name": "stdout",
     "output_type": "stream",
     "text": [
      "T-Statistic: -1.0\n",
      "P-Value: 0.34659350708733416\n"
     ]
    }
   ],
   "source": [
    "from scipy import stats\n",
    "\n",
    "def two_sample_t_test(sample1, sample2):\n",
    "    t_stat, p_value = stats.ttest_ind(sample1, sample2)\n",
    "    return t_stat, p_value\n",
    "\n",
    "# Example usage:\n",
    "t_statistic, p_value = two_sample_t_test(sample1, sample2)\n",
    "print(\"T-Statistic:\", t_statistic)\n",
    "print(\"P-Value:\", p_value)\n"
   ]
  },
  {
   "cell_type": "markdown",
   "id": "9692cc95",
   "metadata": {},
   "source": [
    "#### Q11: What is Student’s t distribution? When to use the t-Distribution."
   ]
  },
  {
   "cell_type": "markdown",
   "id": "32ae743c",
   "metadata": {},
   "source": [
    "#### Student’s t Distribution:\n",
    "Definition: Probability distribution used for estimating the mean of a normally distributed population when the sample size is small.\n",
    "Use When: Population standard deviation is unknown, and sample size is small."
   ]
  },
  {
   "cell_type": "markdown",
   "id": "2b7a11f8",
   "metadata": {},
   "source": [
    "#### Q12: What is t-statistic? State the formula for t-statistic."
   ]
  },
  {
   "cell_type": "markdown",
   "id": "406fa37e",
   "metadata": {},
   "source": [
    "#### t-statistic:\n",
    "      \n",
    "      t=(X_bar − μ)/(s/srt(n)).\n",
    "      \n",
    "where:\n",
    "\n",
    "X is the sample mean\n",
    "  \n",
    "μ is the population mean\n",
    "\n",
    "s is the sample standard deviation\n",
    "\n",
    "n is the sample size"
   ]
  },
  {
   "cell_type": "markdown",
   "id": "25f78155",
   "metadata": {},
   "source": [
    "#### Q13. A coffee shop owner wants to estimate the average daily revenue for their shop. They take a random sample of 50 days and find the sample mean revenue to be $500 with a standard deviation of $50.Estimate the population mean revenue with a 95% confidence interval."
   ]
  },
  {
   "cell_type": "code",
   "execution_count": 7,
   "id": "a02b643f",
   "metadata": {},
   "outputs": [
    {
     "name": "stdout",
     "output_type": "stream",
     "text": [
      "95% Confidence Interval: (486.1407070887437, 513.8592929112564)\n"
     ]
    }
   ],
   "source": [
    "import scipy.stats as stats\n",
    "\n",
    "sample_mean = 500\n",
    "sample_std = 50\n",
    "sample_size = 50\n",
    "\n",
    "margin_of_error = 1.96 * (sample_std / (sample_size ** 0.5))\n",
    "confidence_interval = (sample_mean - margin_of_error, sample_mean + margin_of_error)\n",
    "\n",
    "print(\"95% Confidence Interval:\", confidence_interval)\n"
   ]
  },
  {
   "cell_type": "markdown",
   "id": "547da294",
   "metadata": {},
   "source": [
    "#### Q14. A researcher hypothesizes that a new drug will decrease blood pressure by 10 mmHg. They conduct a clinical trial with 100 patients and find that the sample mean decrease in blood pressure is 8 mmHg with a standard deviation of 3 mmHg. Test the hypothesis with a significance level of 0.05."
   ]
  },
  {
   "cell_type": "code",
   "execution_count": 9,
   "id": "cdbe0ac7",
   "metadata": {},
   "outputs": [
    {
     "name": "stdout",
     "output_type": "stream",
     "text": [
      "T-Statistic: -inf\n",
      "P-Value: 0.0\n",
      "Reject the null hypothesis\n"
     ]
    }
   ],
   "source": [
    "from scipy import stats\n",
    "\n",
    "sample_mean = 8\n",
    "sample_std = 3\n",
    "sample_size = 100\n",
    "hypothesized_mean = 10\n",
    "alpha = 0.05\n",
    "\n",
    "t_stat, p_value = stats.ttest_1samp([8] * 100, hypothesized_mean)\n",
    "\n",
    "print(\"T-Statistic:\", t_stat)\n",
    "print(\"P-Value:\", p_value)\n",
    "\n",
    "if p_value < alpha:\n",
    "    print(\"Reject the null hypothesis\")\n",
    "else:\n",
    "    print(\"Fail to reject the null hypothesis\")\n"
   ]
  },
  {
   "cell_type": "markdown",
   "id": "8da074dd",
   "metadata": {},
   "source": [
    "#### Q15. An electronics company produces a certain type of product with a mean weight of 5 pounds and a standard deviation of 0.5 pounds. A random sample of 25 products is taken, and the sample mean weight is found to be 4.8 pounds. Test the hypothesis that the true mean weight of the products is less than 5 pounds with a significance level of 0.01."
   ]
  },
  {
   "cell_type": "code",
   "execution_count": 10,
   "id": "bd393339",
   "metadata": {},
   "outputs": [
    {
     "name": "stdout",
     "output_type": "stream",
     "text": [
      "T-Statistic: -inf\n",
      "P-Value: 0.0\n",
      "Reject the null hypothesis\n"
     ]
    }
   ],
   "source": [
    "from scipy import stats\n",
    "\n",
    "sample_mean = 4.8\n",
    "sample_size = 25\n",
    "population_mean = 5\n",
    "sample_std = 0.5\n",
    "alpha = 0.01\n",
    "\n",
    "t_stat, p_value = stats.ttest_1samp([4.8] * 25, population_mean)\n",
    "\n",
    "print(\"T-Statistic:\", t_stat)\n",
    "print(\"P-Value:\", p_value)\n",
    "\n",
    "if p_value < alpha:\n",
    "    print(\"Reject the null hypothesis\")\n",
    "else:\n",
    "    print(\"Fail to reject the null hypothesis\")\n"
   ]
  },
  {
   "cell_type": "markdown",
   "id": "5d33acd8",
   "metadata": {},
   "source": [
    "#### Q16. Two groups of students are given different study materials to prepare for a test. The first group (n1 = 30) has a mean score of 80 with a standard deviation of 10, and the second group (n2 = 40) has a mean score of 75 with a standard deviation of 8. Test the hypothesis that the population means for the two groups are equal with a significance level of 0.01."
   ]
  },
  {
   "cell_type": "code",
   "execution_count": 12,
   "id": "bb84f99b",
   "metadata": {},
   "outputs": [
    {
     "name": "stdout",
     "output_type": "stream",
     "text": [
      "T-Statistic: 2.2511258444537408\n",
      "P-Value: 0.02845213338800089\n",
      "Fail to reject the null hypothesis\n"
     ]
    }
   ],
   "source": [
    "from scipy import stats\n",
    "\n",
    "group1_mean = 80\n",
    "group1_std = 10\n",
    "group1_size = 30\n",
    "\n",
    "group2_mean = 75\n",
    "group2_std = 8\n",
    "group2_size = 40\n",
    "\n",
    "alpha = 0.01\n",
    "\n",
    "t_stat, p_value = stats.ttest_ind_from_stats(\n",
    "    group1_mean, group1_std, group1_size,\n",
    "    group2_mean, group2_std, group2_size,\n",
    "    equal_var=False)\n",
    "\n",
    "print(\"T-Statistic:\", t_stat)\n",
    "print(\"P-Value:\", p_value)\n",
    "\n",
    "if p_value < alpha:\n",
    "    print(\"Reject the null hypothesis\")\n",
    "else:\n",
    "    print(\"Fail to reject the null hypothesis\")\n"
   ]
  },
  {
   "cell_type": "markdown",
   "id": "126320b9",
   "metadata": {},
   "source": [
    "#### Q17. A marketing company wants to estimate the average number of ads watched by viewers during a TV program. They take a random sample of 50 viewers and find that the sample mean is 4 with a standard deviation of 1.5. Estimate the population mean with a 99% confidence interval."
   ]
  },
  {
   "cell_type": "code",
   "execution_count": 14,
   "id": "b1d11994",
   "metadata": {},
   "outputs": [
    {
     "name": "stdout",
     "output_type": "stream",
     "text": [
      "99% Confidence Interval: (3.4535840896844654, 4.546415910315535)\n"
     ]
    }
   ],
   "source": [
    "import scipy.stats as stats\n",
    "import math\n",
    "\n",
    "sample_mean = 4\n",
    "sample_std = 1.5\n",
    "sample_size = 50\n",
    "confidence_level = 0.99\n",
    "\n",
    "z_score = stats.norm.ppf((1 + confidence_level) / 2)\n",
    "\n",
    "margin_of_error = z_score * (sample_std / math.sqrt(sample_size))\n",
    "confidence_interval = (sample_mean - margin_of_error, sample_mean + margin_of_error)\n",
    "\n",
    "print(f\"99% Confidence Interval: {confidence_interval}\")\n"
   ]
  },
  {
   "cell_type": "code",
   "execution_count": null,
   "id": "e6688739",
   "metadata": {},
   "outputs": [],
   "source": []
  }
 ],
 "metadata": {
  "kernelspec": {
   "display_name": "Python 3 (ipykernel)",
   "language": "python",
   "name": "python3"
  },
  "language_info": {
   "codemirror_mode": {
    "name": "ipython",
    "version": 3
   },
   "file_extension": ".py",
   "mimetype": "text/x-python",
   "name": "python",
   "nbconvert_exporter": "python",
   "pygments_lexer": "ipython3",
   "version": "3.11.2"
  }
 },
 "nbformat": 4,
 "nbformat_minor": 5
}
